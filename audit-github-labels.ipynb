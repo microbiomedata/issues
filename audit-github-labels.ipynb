{
 "cells": [
  {
   "cell_type": "markdown",
   "id": "992951d3-7c5e-4979-b210-f46f30eb8ea2",
   "metadata": {},
   "source": [
    "# Audit labels in a GitHub organization\n",
    "\n",
    "This notebooks creates TSV files containing information about the labels used in repositories in an organization on GitHub."
   ]
  },
  {
   "cell_type": "markdown",
   "id": "683ed72a-7bb6-44af-b2ae-1918ca3eb048",
   "metadata": {},
   "source": [
    "## 1. Set up the notebook"
   ]
  },
  {
   "cell_type": "markdown",
   "id": "bea8f7b0-a2f3-4aed-b2c2-cfd413e71440",
   "metadata": {},
   "source": [
    "Before running the other cells in this notebook:\n",
    "- Set the `ORG_NAME` variable to the name of the organization of interest\n",
    "- Set the `ACCESS_TOKEN` variable to a GitHub personal access token that has access to the organization of interest"
   ]
  },
  {
   "cell_type": "code",
   "execution_count": null,
   "id": "a803348a-576c-453d-b42f-ee2973ad2e6d",
   "metadata": {},
   "outputs": [],
   "source": [
    "ORG_NAME = r\"microbiomedata\"  # TODO: Replace me!\n",
    "ACCESS_TOKEN = r\"github_pat_...\"  # TODO: Replace me!"
   ]
  },
  {
   "cell_type": "markdown",
   "id": "ee85a413-2de8-4174-b164-60fe18e11e4c",
   "metadata": {},
   "source": [
    "Install dependencies."
   ]
  },
  {
   "cell_type": "code",
   "execution_count": null,
   "id": "1c968c09-a533-4db4-9901-12a275969e60",
   "metadata": {},
   "outputs": [],
   "source": [
    "# Reference: https://pygithub.readthedocs.io/en/stable/introduction.html\n",
    "%pip install PyGithub"
   ]
  },
  {
   "cell_type": "markdown",
   "id": "cfb35463-94fd-4d50-815b-649a4123934a",
   "metadata": {},
   "source": [
    "Import modules."
   ]
  },
  {
   "cell_type": "code",
   "execution_count": null,
   "id": "23704b92-aa3a-4ca2-8d43-17645228c52a",
   "metadata": {},
   "outputs": [],
   "source": [
    "import csv\n",
    "import io\n",
    "\n",
    "from github import Github, Auth"
   ]
  },
  {
   "cell_type": "markdown",
   "id": "aa8ad656-bda2-43f2-97f2-8fb85074657b",
   "metadata": {},
   "source": [
    "Define helper functions you can use later.\n",
    "\n",
    "> References:\n",
    "> - https://docs.python.org/3/library/csv.html#csv.DictWriter"
   ]
  },
  {
   "cell_type": "code",
   "execution_count": null,
   "id": "f1cf05d7-5f5e-4876-968c-2fbeea07aac7",
   "metadata": {},
   "outputs": [],
   "source": [
    "def get_lowercase_key(key_value_pair: tuple) -> str:\n",
    "    r\"\"\"Returns the key from a `(key, value)` tuple, in lowercase.\"\"\"\n",
    "    return key_value_pair[0].lower()\n",
    "\n",
    "def write_list_of_dicts_to_tsv_file(keys: list, list_of_dicts: list, file_path: str) -> None:\n",
    "    r\"\"\"Writes a list of dictionaries to a TSV file.\"\"\"\n",
    "    with open(file_path, \"w\", newline=\"\") as f:\n",
    "        writer = csv.DictWriter(f, fieldnames=keys, delimiter=\"\\t\")\n",
    "        writer.writeheader()\n",
    "        for row_dict in list_of_dicts:\n",
    "            writer.writerow(row_dict)"
   ]
  },
  {
   "cell_type": "markdown",
   "id": "d6bfcdfc-921a-4200-b958-17b4fe955191",
   "metadata": {},
   "source": [
    "## 2. Fetch data from the GitHub API"
   ]
  },
  {
   "cell_type": "markdown",
   "id": "36d77c09-b3a5-4e62-9861-0bf134c2a999",
   "metadata": {},
   "source": [
    "Create an authenticated GitHub client."
   ]
  },
  {
   "cell_type": "code",
   "execution_count": null,
   "id": "1534726b-c060-4ecd-895e-8e7836d92f49",
   "metadata": {},
   "outputs": [],
   "source": [
    "auth = Auth.Token(ACCESS_TOKEN)\n",
    "g = Github(auth=auth)"
   ]
  },
  {
   "cell_type": "markdown",
   "id": "9932462d-2de9-40c0-9a7a-100bb5521ddb",
   "metadata": {},
   "source": [
    "Fetch each label in each repository.\n",
    "\n",
    "> References:\n",
    "> - https://pygithub.readthedocs.io/en/stable/examples/Repository.html#get-all-the-labels-of-the-repository"
   ]
  },
  {
   "cell_type": "code",
   "execution_count": null,
   "id": "8d2351ce-e76a-4719-b841-7c57ba2ebae7",
   "metadata": {},
   "outputs": [],
   "source": [
    "# Note: This cell takes about 1 minute to run on my laptop.\n",
    "\n",
    "repos_by_repo_name = {}\n",
    "\n",
    "labels_by_repo_name = {}\n",
    "\n",
    "org = g.get_organization(ORG_NAME)\n",
    "\n",
    "for repo in org.get_repos():\n",
    "    repo_name = repo.name\n",
    "    repos_by_repo_name[repo_name] = repo\n",
    "    labels_by_repo_name[repo_name] = []\n",
    "    \n",
    "    labels = repo.get_labels()\n",
    "    for label in labels:\n",
    "        labels_by_repo_name[repo_name].append(label)"
   ]
  },
  {
   "cell_type": "markdown",
   "id": "c496327c-b758-492d-98f5-ce1ba50f7c97",
   "metadata": {},
   "source": [
    "Fetch the number of \"labelings\" (i.e uses) of each label in each repository—regardless of whether the labeled thing is an Issue or a PR and regardless of whether the labeled thing is \"Open\" or \"Closed.\"\n",
    "\n",
    "> References:\n",
    "> - https://github.com/PyGithub/PyGithub/blob/cc766a6ffdfa4b24c395dd958df46704348637fb/github/Repository.py#L2816\n",
    "> - https://github.com/PyGithub/PyGithub/blob/cc766a6ffdfa4b24c395dd958df46704348637fb/github/PaginatedList.py#L187"
   ]
  },
  {
   "cell_type": "code",
   "execution_count": null,
   "id": "d3562ec9-4547-49f0-b29b-4189a1b38ac3",
   "metadata": {},
   "outputs": [],
   "source": [
    "# Note: This cell takes 10-11 minutes to run on my laptop.\n",
    "\n",
    "num_labelings_by_label_name_by_repo_name = {}\n",
    "\n",
    "# Initialize a counter that we can use as a progress indicator.\n",
    "repo_num = 0\n",
    "num_repos = len(repos_by_repo_name.keys())\n",
    "\n",
    "for repo_name, repo in sorted(repos_by_repo_name.items(), key=get_lowercase_key):\n",
    "    # Print the name of the repo in which we are about to count \"labelings.\"\n",
    "    print(f\"{repo_name} (repo {repo_num + 1} of {num_repos}): \", end=\"\")\n",
    "\n",
    "    # Ensure a dictionary entry for this repo name exists.\n",
    "    if repo_name not in num_labelings_by_label_name_by_repo_name.keys():\n",
    "        num_labelings_by_label_name_by_repo_name[repo_name] = {}\n",
    "    \n",
    "    for label in labels_by_repo_name[repo_name]:\n",
    "        issues = repo.get_issues(state=\"all\", labels=[label])\n",
    "        num_labelings_by_label_name_by_repo_name[repo_name][label.name] = issues.totalCount\n",
    "        print(\".\", end=\"\")  # print a dot to represent a unit of progress\n",
    "\n",
    "    # Increment the counter used as a progress indicator.\n",
    "    print(\"\")\n",
    "    repo_num += 1"
   ]
  },
  {
   "cell_type": "markdown",
   "id": "10410e9d-126e-4dac-8f46-b1c58c89386f",
   "metadata": {},
   "source": [
    "Close the GitHub client's connection to the GitHub API."
   ]
  },
  {
   "cell_type": "code",
   "execution_count": null,
   "id": "64684e80-63c1-4305-83ba-1b7c85969b06",
   "metadata": {},
   "outputs": [],
   "source": [
    "g.close()"
   ]
  },
  {
   "cell_type": "markdown",
   "id": "e32458f7-9b85-47e6-afa8-d3622fe03a69",
   "metadata": {},
   "source": [
    "## 3. Process the fetched data"
   ]
  },
  {
   "cell_type": "markdown",
   "id": "74db0c56-ed60-4abf-8083-64ddda6e730b",
   "metadata": {},
   "source": [
    "Make a dictionary of label descriptions.\n",
    "\n",
    "Example dictionary item, which shows a single label being described differently in different repos.\n",
    "```json\n",
    "{ \n",
    "    \"small\": {\n",
    "        \"some-repo\": \"Will take 1-2 days to complete\",\n",
    "        \"other-repo\": \"Will take 1-2 hours to complete\",\n",
    "        \"other-other-repo\": \"Will take 1-2 hours to complete\"\n",
    "    }\n",
    "}\n",
    "```"
   ]
  },
  {
   "cell_type": "code",
   "execution_count": null,
   "id": "2abee948-d903-40fa-913d-d620b21e333c",
   "metadata": {},
   "outputs": [],
   "source": [
    "label_descriptions_by_repo_name_by_label_name = {}\n",
    "\n",
    "for repo_name, labels in labels_by_repo_name.items():\n",
    "    for label in labels:\n",
    "        label_name = label.name\n",
    "\n",
    "        # Ensure a dictionary entry for this label name exists.\n",
    "        if label_name not in label_descriptions_by_repo_name_by_label_name.keys():\n",
    "            label_descriptions_by_repo_name_by_label_name[label_name] = {}\n",
    "\n",
    "        label_descriptions_by_repo_name_by_label_name[label_name][repo_name] = label.description"
   ]
  },
  {
   "cell_type": "markdown",
   "id": "685d9654-948f-43ab-bdc0-351ac6a759d0",
   "metadata": {},
   "source": [
    "Write that dictionary out to a TSV file."
   ]
  },
  {
   "cell_type": "code",
   "execution_count": null,
   "id": "5aded6eb-17b6-420c-8167-a2755283350e",
   "metadata": {},
   "outputs": [],
   "source": [
    "label_descriptions = []\n",
    "\n",
    "for label_name, label_descriptions_by_repo_name in sorted(label_descriptions_by_repo_name_by_label_name.items(), key=get_lowercase_key):\n",
    "    for repo_name, label_description in label_descriptions_by_repo_name.items():\n",
    "        label_descriptions.append(dict(repo_name=repo_name, label_name=label_name, label_description=label_description))\n",
    "\n",
    "write_list_of_dicts_to_tsv_file(keys=[\"repo_name\", \"label_name\", \"label_description\"], \n",
    "                                list_of_dicts=label_descriptions,\n",
    "                                file_path=\"label_descriptions.tsv\")"
   ]
  },
  {
   "cell_type": "markdown",
   "id": "9c24e1a9-6805-47a6-b407-5341e558315e",
   "metadata": {},
   "source": [
    "Make a list of labels lacking descriptions.\n",
    "\n",
    "Example list item, which shows the label name and the name of the repo in which that label lacks a description:\n",
    "```json\n",
    "{\n",
    "    \"label_name\": \"small\",\n",
    "    \"repo_name\": \"mystery-repo\"\n",
    "}\n",
    "```"
   ]
  },
  {
   "cell_type": "code",
   "execution_count": null,
   "id": "5ea19077-0725-417e-a84b-f979cf6a851e",
   "metadata": {},
   "outputs": [],
   "source": [
    "labels_lacking_description = []\n",
    "\n",
    "for label_name, label_descriptions_by_repo_name in sorted(label_descriptions_by_repo_name_by_label_name.items(), key=get_lowercase_key):\n",
    "    for repo_name, label_description in label_descriptions_by_repo_name.items():\n",
    "        \n",
    "        # Note: I did, in fact, encounter a description of `None` in practice. :shrug:\n",
    "        if label_description is None or len(label_description.strip()) == 0:\n",
    "            labels_lacking_description.append(dict(label_name=label_name, repo_name=repo_name))"
   ]
  },
  {
   "cell_type": "markdown",
   "id": "3837ca76-7bae-4e13-87ef-eceae3fafcff",
   "metadata": {},
   "source": [
    "Write that list out to a TSV file."
   ]
  },
  {
   "cell_type": "code",
   "execution_count": null,
   "id": "f0c6283f-b903-4453-bc43-4a26992391b6",
   "metadata": {},
   "outputs": [],
   "source": [
    "write_list_of_dicts_to_tsv_file(keys=[\"repo_name\", \"label_name\"], \n",
    "                                list_of_dicts=labels_lacking_description,\n",
    "                                file_path=\"labels_lacking_description.tsv\")"
   ]
  },
  {
   "cell_type": "markdown",
   "id": "10d84baa-824e-4531-ae76-d024fdda93f8",
   "metadata": {},
   "source": [
    "Make a fancy table showing (among other things) how much each label is used in each repo, and write that table out to a TSV file.\n",
    "\n",
    "The table will have this format:\n",
    "- Column headers (first row) are repository names\n",
    "- Row headers (first column) are label names\n",
    "- First non-header row (second row) contains the number of labels that exist in a given repo\n",
    "- First non-header column (second column) contains the number of \"labelings\" (i.e. uses) of a given label across all repos:\n",
    "    - `None` means the label does not exist in that repo\n",
    "    - `0` means the label exists in that repo, but is not used in that repo\n",
    "    - `1`+ means the label is used in that repo (which implies that it also exists in that repo)"
   ]
  },
  {
   "cell_type": "code",
   "execution_count": null,
   "id": "02d91f6e-3411-456a-9ee4-7163d42994c6",
   "metadata": {},
   "outputs": [],
   "source": [
    "# Make a dictionary of names of repos in which a given label exists.\n",
    "repo_names_by_label_name = {}\n",
    "for repo_name, labels in labels_by_repo_name.items():\n",
    "    for label in labels:\n",
    "\n",
    "        # Ensure a dictionary entry for this label name exists.\n",
    "        if label.name not in repo_names_by_label_name.keys():\n",
    "            repo_names_by_label_name[label.name] = []\n",
    "\n",
    "        repo_names_by_label_name[label.name].append(repo_name)\n",
    "\n",
    "# Write this stuff as TSV content to a buffer in memory (we'll dump it to a file later).\n",
    "all_repo_names = sorted(labels_by_repo_name.keys(), key=str.lower)  # ignores letter casing when sorting\n",
    "field_names = [\"Label name\", \"Number of repos\"] + all_repo_names\n",
    "buffer = io.StringIO()\n",
    "tsv_writer = csv.DictWriter(buffer, fieldnames=field_names, delimiter=\"\\t\")\n",
    "tsv_writer.writeheader()\n",
    "\n",
    "# Make the first data row, which contains the number of labels in each repo.\n",
    "first_data_row = {\"Label name\": \"Number of labels\"}\n",
    "for repo_name, labels in labels_by_repo_name.items():\n",
    "    first_data_row[repo_name] = len(labels)\n",
    "tsv_writer.writerow(first_data_row)\n",
    "\n",
    "# Make the subsequent rows.\n",
    "for label_name, repo_names in sorted(repo_names_by_label_name.items(), key=get_lowercase_key):\n",
    "    row = {\"Label name\": label_name, \"Number of repos\": len(repo_names)}\n",
    "    for repo_name in all_repo_names:\n",
    "        if label_name in num_labelings_by_label_name_by_repo_name[repo_name]:\n",
    "            row[repo_name] = num_labelings_by_label_name_by_repo_name[repo_name][label_name]  # some number >= 0\n",
    "        else:\n",
    "            row[repo_name] = None\n",
    "    tsv_writer.writerow(row)\n",
    "\n",
    "# Write the TSV content to a file.\n",
    "with open(\"label_usage.tsv\", \"w\", newline=\"\") as f:\n",
    "    f.write(buffer.getvalue())"
   ]
  }
 ],
 "metadata": {
  "kernelspec": {
   "display_name": "Python 3 (ipykernel)",
   "language": "python",
   "name": "python3"
  },
  "language_info": {
   "codemirror_mode": {
    "name": "ipython",
    "version": 3
   },
   "file_extension": ".py",
   "mimetype": "text/x-python",
   "name": "python",
   "nbconvert_exporter": "python",
   "pygments_lexer": "ipython3",
   "version": "3.11.6"
  }
 },
 "nbformat": 4,
 "nbformat_minor": 5
}
